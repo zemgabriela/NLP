{
 "cells": [
  {
   "cell_type": "code",
   "execution_count": 6,
   "metadata": {},
   "outputs": [],
   "source": [
    "# =========== IMPORT LIBRARIES ===========\n",
    "from utils.utils import *\n",
    "import pickle\n",
    "import pprint"
   ]
  },
  {
   "cell_type": "code",
   "execution_count": 7,
   "metadata": {},
   "outputs": [
    {
     "name": "stderr",
     "output_type": "stream",
     "text": [
      "Creating: 100%|██████████| 38366/38366 [00:18<00:00, 2031.18sentence/s]\n",
      "Creating Sequence List: 100%|██████████| 38366/38366 [02:20<00:00, 272.60it/s]\n"
     ]
    }
   ],
   "source": [
    "# =========== IMPORT DATASETS ===========\n",
    "train = pd.read_csv(\"data/train_data_ner.csv\")\n",
    "\n",
    "# =========== NAN VALUES ===========\n",
    "train['words'] = train['words'].astype(str)\n",
    "\n",
    "# =========== CONVERT DATASETS ===========\n",
    "X_train, y_train = transform_data_sentence_tag(train)\n",
    "\n",
    "# =========== CREATE DICTIONARIES WITH UNIQUE INDEX  ===========\n",
    "word_dict, tag_dict = create_corpus(X_train, y_train)\n",
    "\n",
    "# =========== CREATE SEQUENCE LIST  ===========\n",
    "# Next we will help ourselves with the nlp_hmms lecture and create a SequenceList object (without cython)\n",
    "sequence_list = create_sequence_list(X_train, y_train, word_dict, tag_dict)"
   ]
  },
  {
   "cell_type": "code",
   "execution_count": null,
   "metadata": {},
   "outputs": [],
   "source": [
    "# =========== MODELS - DEFAULT FEATURES ===========\n",
    "\n",
    "# =========== GET FEATURES ===========\n",
    "mapping_feature = IDFeatures(sequence_list)\n",
    "mapping_feature.build_features()\n",
    "\n",
    "# =========== MODEL PARAMETERS ===========\n",
    "epochs = 15\n",
    "structured_perceptron = StructuredPerceptron(word_dict, tag_dict, mapping_feature)\n",
    "structured_perceptron.num_epochs = 5\n",
    "\n",
    "# =========== MODEL TRAIN ===========\n",
    "%time structured_perceptron.fit(mapping_feature.dataset, epochs)\n",
    "\n",
    "# =========== MODEL SAVE ===========\n",
    "structured_perceptron.save_model(\"fitted_models/default_features_model_wo_cython\")"
   ]
  },
  {
   "cell_type": "code",
   "execution_count": 8,
   "metadata": {},
   "outputs": [],
   "source": [
    "# =========== MODELS - ADDED FEATURES ===========\n",
    "import skseq.sequences.structured_perceptron as spc\n",
    "from skseq.sequences import extended_feature\n",
    "\n",
    "# =========== GET FEATURES ===========\n",
    "extra_mapping_feature = extended_feature.ExtendedFeatures(sequence_list) \n",
    "extra_mapping_feature.build_features()\n",
    "\n",
    "# =========== MODEL PARAMETERS ===========\n",
    "epochs = 15\n",
    "structured_perceptron_extra = spc.StructuredPerceptron(word_dict, tag_dict, extra_mapping_feature)\n",
    "structured_perceptron_extra.num_epochs = 5\n",
    "%time structured_perceptron_extra.fit(extra_mapping_feature.dataset, epochs)\n",
    "\n",
    "# =========== MODEL SAVE ===========\n",
    "structured_perceptron_extra.save_model(\"fitted_models/extra_features_model_wo_cython.pkl\")"
   ]
  },
  {
   "cell_type": "code",
   "execution_count": null,
   "metadata": {},
   "outputs": [],
   "source": []
  }
 ],
 "metadata": {
  "kernelspec": {
   "display_name": "base",
   "language": "python",
   "name": "python3"
  },
  "language_info": {
   "codemirror_mode": {
    "name": "ipython",
    "version": 3
   },
   "file_extension": ".py",
   "mimetype": "text/x-python",
   "name": "python",
   "nbconvert_exporter": "python",
   "pygments_lexer": "ipython3",
   "version": "3.11.4"
  },
  "orig_nbformat": 4
 },
 "nbformat": 4,
 "nbformat_minor": 2
}
